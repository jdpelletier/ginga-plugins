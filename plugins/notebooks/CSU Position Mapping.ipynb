{
 "cells": [
  {
   "cell_type": "code",
   "execution_count": null,
   "metadata": {
    "collapsed": true
   },
   "outputs": [],
   "source": [
    "import numpy as np\n",
    "from scipy.optimize import curve_fit"
   ]
  },
  {
   "cell_type": "code",
   "execution_count": null,
   "metadata": {
    "collapsed": true
   },
   "outputs": [],
   "source": [
    "def slit_to_bars(slit):\n",
    "    return (slit*2-1, slit*2)\n",
    "\n",
    "def barpos_to_pix(slit, mm,\\\n",
    "                  bar01center=269.0, bar01ycenter=255.0, bar_width=-5.48, scale=1./0.124, \\\n",
    "                  bar_angle=-0.22*np.pi/180., slit_angle=(4.0-0.22)*np.pi/180., \\\n",
    "                 ):\n",
    "    barposmatrix = np.array([ [scale*np.cos(bar_angle),\n",
    "                               -np.sin(bar_angle)],\n",
    "                              [np.sin(bar_angle),\n",
    "                               scale*np.cos(bar_angle)] ])\n",
    "    barpos = np.array([bar01xcenter - mm, slit*bar_width + bar01ycenter])\n",
    "    xy = np.dot(barpos, barposmatrix)\n",
    "    return xy\n"
   ]
  },
  {
   "cell_type": "code",
   "execution_count": null,
   "metadata": {
    "collapsed": true
   },
   "outputs": [],
   "source": [
    "curve_fit(f, xdata, ydata, p0=None)"
   ]
  }
 ],
 "metadata": {
  "kernelspec": {
   "display_name": "Python 3",
   "language": "python",
   "name": "python3"
  },
  "language_info": {
   "codemirror_mode": {
    "name": "ipython",
    "version": 3
   },
   "file_extension": ".py",
   "mimetype": "text/x-python",
   "name": "python",
   "nbconvert_exporter": "python",
   "pygments_lexer": "ipython3",
   "version": "3.6.1"
  }
 },
 "nbformat": 4,
 "nbformat_minor": 2
}
