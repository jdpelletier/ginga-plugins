{
 "cells": [
  {
   "cell_type": "code",
   "execution_count": 41,
   "metadata": {},
   "outputs": [
    {
     "name": "stdout",
     "output_type": "stream",
     "text": [
      "Target:\n",
      "[[ 179.155    2.   ]\n",
      " [ 133.901    6.   ]\n",
      " [ 144.962   12.   ]\n",
      " [ 129.033   92.   ]]\n",
      "Result:\n",
      "[[ 179.16102716    2.01634855]\n",
      " [ 133.91694512    6.04325081]\n",
      " [ 144.93810778   11.93519282]\n",
      " [ 129.03491995   92.00520782]]\n",
      "Max error: 0.0648071795272\n",
      "Transformation Matrix\n",
      "[[ -1.30501561e-01   9.53563140e-05   0.00000000e+00]\n",
      " [ -4.54088456e-04  -4.53842457e-02   0.00000000e+00]\n",
      " [  2.74170820e+02   9.37145414e+01   1.00000000e+00]]\n"
     ]
    }
   ],
   "source": [
    "import numpy as np\n",
    "\n",
    "pixels = np.array([ (721, 2022), # pixels\n",
    "                    (1068, 1934),\n",
    "                    (984, 1804),\n",
    "                    (1112, 40),\n",
    "                  ])\n",
    "physical = np.array([ (179.155, 2), # mm, slit number\n",
    "                      (133.901, 6),\n",
    "                      (144.962, 12),\n",
    "                      (129.033, 92)\n",
    "                    ])\n",
    "\n",
    "\n",
    "# Pad the data with ones, so that our transformation can do translations too\n",
    "n = pixels.shape[0]\n",
    "pad = lambda x: np.hstack([x, np.ones((x.shape[0], 1))])\n",
    "unpad = lambda x: x[:,:-1]\n",
    "X = pad(pixels)\n",
    "Y = pad(physical)\n",
    "\n",
    "# Solve the least squares problem X * A = Y\n",
    "# to find our transformation matrix A\n",
    "A, res, rank, s = np.linalg.lstsq(X, Y)\n",
    "\n",
    "transform = lambda x: unpad(np.dot(pad(x), A))\n",
    "\n",
    "print(\"Target:\")\n",
    "print(physical)\n",
    "print(\"Result:\")\n",
    "print(transform(pixels))\n",
    "print(\"Max error:\", np.abs(physical - transform(pixels)).max())\n",
    "A[np.abs(A) < 1e-10] = 0  # set really small values to zero\n",
    "print('Transformation Matrix')\n",
    "print(A)"
   ]
  },
  {
   "cell_type": "code",
   "execution_count": 52,
   "metadata": {},
   "outputs": [
    {
     "name": "stdout",
     "output_type": "stream",
     "text": [
      "Target:\n",
      "[[ 721 2022]\n",
      " [1068 1934]\n",
      " [ 984 1804]\n",
      " [1112   40]]\n",
      "Result:\n",
      "[[  721.04512804  2022.36190124]\n",
      " [ 1068.11857426  1934.95089813]\n",
      " [  983.82176362  1802.57064561]\n",
      " [ 1112.01453407    40.11655501]]\n",
      "Max error: 1.42935438825\n",
      "Reverse Transformation Matrix\n",
      "[[ -7.66267614e+00  -1.60085615e-02   0.00000000e+00]\n",
      " [  7.66750274e-02  -2.20338636e+01   0.00000000e+00]\n",
      " [  2.09369852e+03   2.06929764e+03   1.00000000e+00]]\n"
     ]
    }
   ],
   "source": [
    "Ainv, res, rank, s = np.linalg.lstsq(Y, X)\n",
    "\n",
    "reverse = lambda x: unpad(np.dot(pad(x), Ainv))\n",
    "\n",
    "print(\"Target:\")\n",
    "print(pixels)\n",
    "print(\"Result:\")\n",
    "print(reverse(physical))\n",
    "print(\"Max error:\", np.abs(pixels - reverse(physical)).max())\n",
    "Ainv[np.abs(Ainv) < 1e-10] = 0  # set really small values to zero\n",
    "print('Reverse Transformation Matrix')\n",
    "print(Ainv)"
   ]
  },
  {
   "cell_type": "code",
   "execution_count": null,
   "metadata": {
    "collapsed": true
   },
   "outputs": [],
   "source": []
  },
  {
   "cell_type": "code",
   "execution_count": null,
   "metadata": {
    "collapsed": true
   },
   "outputs": [],
   "source": []
  }
 ],
 "metadata": {
  "kernelspec": {
   "display_name": "Python 3",
   "language": "python",
   "name": "python3"
  },
  "language_info": {
   "codemirror_mode": {
    "name": "ipython",
    "version": 3
   },
   "file_extension": ".py",
   "mimetype": "text/x-python",
   "name": "python",
   "nbconvert_exporter": "python",
   "pygments_lexer": "ipython3",
   "version": "3.6.1"
  }
 },
 "nbformat": 4,
 "nbformat_minor": 2
}
