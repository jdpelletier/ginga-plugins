{
 "cells": [
  {
   "cell_type": "code",
   "execution_count": 1,
   "metadata": {
    "collapsed": true
   },
   "outputs": [],
   "source": [
    "import numpy as np\n",
    "from scipy.optimize import curve_fit"
   ]
  },
  {
   "cell_type": "code",
   "execution_count": null,
   "metadata": {},
   "outputs": [],
   "source": []
  },
  {
   "cell_type": "code",
   "execution_count": 30,
   "metadata": {},
   "outputs": [],
   "source": [
    "def slit_to_bars(slit):\n",
    "    return (slit*2-1, slit*2)\n",
    "\n",
    "def barpos_to_pix(pos, bar01xcenter, bar01ycenter, bar_width, scale, bar_angle, slit_angle):\n",
    "    barposmatrix = np.array([ [scale*np.cos(bar_angle),\n",
    "                               -np.sin(bar_angle)],\n",
    "                              [np.sin(bar_angle),\n",
    "                               scale*np.cos(bar_angle)] ])\n",
    "    slit, mm = pos\n",
    "    print(slit, mm)\n",
    "    print(bar01xcenter)\n",
    "    print(bar01ycenter)\n",
    "    barpos = np.array([bar01xcenter - mm, slit*bar_width + bar01ycenter])\n",
    "    xy = np.dot(barpos, barposmatrix)\n",
    "    return xy\n"
   ]
  },
  {
   "cell_type": "code",
   "execution_count": 31,
   "metadata": {},
   "outputs": [
    {
     "name": "stdout",
     "output_type": "stream",
     "text": [
      "(4, 2)\n",
      "[ 721 2022]\n"
     ]
    }
   ],
   "source": [
    "xdata = np.array([ (721, 2022), # pixels\n",
    "          (1068, 1934),\n",
    "          (984, 1804),\n",
    "          (1112, 40),\n",
    "        ])\n",
    "ydata = np.array([ (2, 179.155), # slit number, mm\n",
    "          (6, 133.901),\n",
    "          (12, 144.962),\n",
    "          (92, 129.033)\n",
    "        ])\n",
    "print(xdata.shape)\n",
    "print(xdata[0])"
   ]
  },
  {
   "cell_type": "code",
   "execution_count": null,
   "metadata": {
    "collapsed": true
   },
   "outputs": [],
   "source": [
    "p0=[269., 255., -5.48, 1./0.124, -0.22*np.pi/180., (4.0-0.22)*np.pi/180.]\n",
    "result = curve_fit(barpos_to_pix, xdata, ydata, p0=p0)\n",
    "result"
   ]
  },
  {
   "cell_type": "code",
   "execution_count": null,
   "metadata": {
    "collapsed": true
   },
   "outputs": [],
   "source": []
  }
 ],
 "metadata": {
  "kernelspec": {
   "display_name": "Python 3",
   "language": "python",
   "name": "python3"
  },
  "language_info": {
   "codemirror_mode": {
    "name": "ipython",
    "version": 3
   },
   "file_extension": ".py",
   "mimetype": "text/x-python",
   "name": "python",
   "nbconvert_exporter": "python",
   "pygments_lexer": "ipython3",
   "version": "3.6.1"
  }
 },
 "nbformat": 4,
 "nbformat_minor": 2
}
